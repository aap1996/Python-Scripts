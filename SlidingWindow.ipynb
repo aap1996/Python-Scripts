{
 "cells": [
  {
   "cell_type": "code",
   "execution_count": 3,
   "id": "a1bf83e2",
   "metadata": {},
   "outputs": [],
   "source": [
    "#Sliding Window Problems"
   ]
  },
  {
   "cell_type": "code",
   "execution_count": 22,
   "id": "4a783297",
   "metadata": {},
   "outputs": [],
   "source": [
    "#Maximum Sub Array\n",
    "nums=[-1,3,4,8,-3,-2,4,9,4]\n",
    "k=3"
   ]
  },
  {
   "cell_type": "code",
   "execution_count": 6,
   "id": "ace49d88",
   "metadata": {},
   "outputs": [],
   "source": [
    "#Without a fixed size\n",
    "def maxSubArray(nums):\n",
    "    totalMax = -sys.maxsize - 1\n",
    "    localMax = totalMax\n",
    "    for i in range(len(nums)):\n",
    "        localMax= max(nums[i],localMax+nums[i])\n",
    "        if localMax > totalMax:\n",
    "            totalMax=localMax\n",
    "    return totalMax"
   ]
  },
  {
   "cell_type": "code",
   "execution_count": 15,
   "id": "bddf18b1",
   "metadata": {},
   "outputs": [
    {
     "data": {
      "text/plain": [
       "17"
      ]
     },
     "execution_count": 15,
     "metadata": {},
     "output_type": "execute_result"
    }
   ],
   "source": [
    "#With a fixed size k\n",
    "def maxSubArrayK(nums,k):\n",
    "    i=0\n",
    "    j=0\n",
    "    total=0\n",
    "    maxTotal=0\n",
    "    while(j<len(nums)):\n",
    "        total+=nums[j]\n",
    "        if(j-i+1 == k):\n",
    "            maxTotal=max(maxTotal,total)\n",
    "            total-=nums[i]\n",
    "            i+=1\n",
    "        j+=1\n",
    "    return maxTotal\n",
    "\n",
    "maxSubArrayK(nums,k)"
   ]
  },
  {
   "cell_type": "code",
   "execution_count": 23,
   "id": "4a7e6982",
   "metadata": {},
   "outputs": [
    {
     "data": {
      "text/plain": [
       "[-1, -3, -3, -3, -2]"
      ]
     },
     "execution_count": 23,
     "metadata": {},
     "output_type": "execute_result"
    }
   ],
   "source": [
    "#First negative number in window size of k\n",
    "from collections import deque\n",
    "def maxSubArrayK(nums,k):\n",
    "    i=0\n",
    "    j=0\n",
    "    q=deque()\n",
    "    res=[]\n",
    "    while(j<len(nums)):\n",
    "        if(nums[j]<0):\n",
    "            q.append(nums[j])\n",
    "        if(j-i + 1 == k):\n",
    "            if(len(q)):\n",
    "                res.append(q[0])\n",
    "                if(q[0]==nums[i]):\n",
    "                    q.popleft()\n",
    "            i+=1\n",
    "        j+=1\n",
    "    return res\n",
    "\n",
    "maxSubArrayK(nums,k)"
   ]
  },
  {
   "cell_type": "code",
   "execution_count": null,
   "id": "89fdfa76",
   "metadata": {},
   "outputs": [],
   "source": []
  }
 ],
 "metadata": {
  "kernelspec": {
   "display_name": "Python 3",
   "language": "python",
   "name": "python3"
  },
  "language_info": {
   "codemirror_mode": {
    "name": "ipython",
    "version": 3
   },
   "file_extension": ".py",
   "mimetype": "text/x-python",
   "name": "python",
   "nbconvert_exporter": "python",
   "pygments_lexer": "ipython3",
   "version": "3.8.8"
  }
 },
 "nbformat": 4,
 "nbformat_minor": 5
}
