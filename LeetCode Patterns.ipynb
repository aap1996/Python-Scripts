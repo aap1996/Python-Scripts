{
 "cells": [
  {
   "cell_type": "markdown",
   "id": "54b65bf5",
   "metadata": {},
   "source": [
    "https://seanprashad.com/leetcode-patterns/"
   ]
  },
  {
   "cell_type": "markdown",
   "id": "088888e8",
   "metadata": {},
   "source": [
    "# 217. Contains Duplicate"
   ]
  },
  {
   "cell_type": "code",
   "execution_count": 2,
   "id": "7575f29d",
   "metadata": {},
   "outputs": [],
   "source": [
    "#Use Set for O(1) check\n",
    "\n",
    "\n",
    "def containsDuplicate(self, nums) -> bool:\n",
    "    temp = set()\n",
    "\n",
    "    for i in nums:\n",
    "        if i in temp:\n",
    "            return True\n",
    "        temp.add(i)\n",
    "\n",
    "    return False"
   ]
  },
  {
   "cell_type": "markdown",
   "id": "c540080a",
   "metadata": {},
   "source": [
    "# 268. Missing Number\n",
    "Given an array nums containing n distinct numbers in the range [0, n], return the only number in the range that is missing from the array."
   ]
  },
  {
   "cell_type": "code",
   "execution_count": null,
   "id": "8174297e",
   "metadata": {},
   "outputs": [],
   "source": [
    "#Use set for O(1) check\n",
    "\n",
    "def missingNumber(self, nums) -> int:\n",
    "\n",
    "    temp = set(nums)\n",
    "\n",
    "    for i in range(len(nums) + 1):\n",
    "        if i not in temp:\n",
    "            return i\n"
   ]
  },
  {
   "cell_type": "markdown",
   "id": "c55d24f2",
   "metadata": {},
   "source": [
    "# 448. Find All Numbers Disappeared in an Array\n",
    "Given an array nums of n integers where nums[i] is in the range [1, n], return an array of all the integers in the range [1, n] that do not appear in nums."
   ]
  },
  {
   "cell_type": "code",
   "execution_count": 4,
   "id": "53abdf88",
   "metadata": {},
   "outputs": [],
   "source": [
    "# Use set for O(1) check\n",
    "\n",
    "def findDisappearedNumbers(self, nums):\n",
    "    temp = []\n",
    "    n = len(nums)\n",
    "    nums = set(nums)\n",
    "\n",
    "    for i in range(1, n + 1):\n",
    "\n",
    "        if i not in nums:\n",
    "            temp.append(i)\n",
    "\n",
    "    return temp"
   ]
  },
  {
   "cell_type": "markdown",
   "id": "b3f34ee3",
   "metadata": {},
   "source": [
    "# 136. Single Number\n",
    "Given a non-empty array of integers nums, every element appears twice except for one. Find that single one.\n",
    "\n",
    "You must implement a solution with a linear runtime complexity and use only constant extra space.\n",
    "\n"
   ]
  },
  {
   "cell_type": "code",
   "execution_count": 6,
   "id": "53c00851",
   "metadata": {},
   "outputs": [],
   "source": [
    "#Using sets\n",
    "def singleNumber(self, nums) -> int:\n",
    "    set1=set()\n",
    "    for i in nums:\n",
    "        if i in set1:\n",
    "            set1.remove(i)\n",
    "        else:\n",
    "            set1.add(i)\n",
    "    return set1.pop()\n",
    "\n",
    "#Using dictionary\n",
    "def singleNumber(self, nums) -> int:\n",
    "    dict1 = {}\n",
    "\n",
    "    for i in nums:\n",
    "\n",
    "        if i not in dict1:\n",
    "            dict1[i] = 0\n",
    "        dict1[i] += 1\n",
    "\n",
    "    for k,v in dict1.items():\n",
    "        if v == 1:\n",
    "            return k\n",
    "        \n",
    "\n",
    "#Without using space\n",
    "#Using XOR  \n",
    "#XOR with same number gives 0 >>>  2 ^ 2 = 0\n",
    "#XORing with 0 gives the original number >>> 0 ^ 4 = 4\n",
    "#Therefore all duplicates will cancel out to give 0, and the single number XORed with 0 will give itself.\n",
    "# 2 ^ 2 ^ 1 = 1\n",
    "def singleNumber(self, nums) -> int:\n",
    "    result = 0\n",
    "    for num in nums:\n",
    "        result = result ^ num\n",
    "\n",
    "    return result\n"
   ]
  },
  {
   "cell_type": "markdown",
   "id": "0db7dfe5",
   "metadata": {},
   "source": [
    "# 303. Range Sum Query - Immutable\n",
    "\n"
   ]
  },
  {
   "cell_type": "code",
   "execution_count": 14,
   "id": "268d277c",
   "metadata": {},
   "outputs": [],
   "source": [
    "# Input\n",
    "# [\"NumArray\", \"sumRange\", \"sumRange\", \"sumRange\"]\n",
    "# [[[-2, 0, 3, -5, 2, -1]], [0, 2], [2, 5], [0, 5]]\n",
    "# Output\n",
    "# [null, 1, -1, -3]\n",
    "\n",
    "# Explanation\n",
    "# NumArray numArray = new NumArray([-2, 0, 3, -5, 2, -1]);\n",
    "# numArray.sumRange(0, 2); // return (-2) + 0 + 3 = 1\n",
    "# numArray.sumRange(2, 5); // return 3 + (-5) + 2 + (-1) = -1\n",
    "# numArray.sumRange(0, 5); // return (-2) + 0 + 3 + (-5) + 2 + (-1) = -3\n",
    "\n",
    "#Using prefix sum!\n",
    "\n",
    "class NumArray:\n",
    "\n",
    "    def __init__(self, nums):\n",
    "        res = 0\n",
    "        self.nums = []\n",
    "        #Prefix sum \n",
    "        for i in nums:\n",
    "            res = res + i\n",
    "            self.nums.append(res)\n",
    "            \n",
    "    def sumRange(self, left: int, right: int) -> int:\n",
    "        \n",
    "        #Return the prefix sum directly\n",
    "        if left == 0:\n",
    "            return self.nums[right]\n",
    "        \n",
    "        #Subtract the left ones\n",
    "        else:\n",
    "            return self.nums[right] - self.nums[left-1]\n"
   ]
  },
  {
   "cell_type": "markdown",
   "id": "a2d77db7",
   "metadata": {},
   "source": [
    "# 338. Counting Bits\n",
    "Given an integer n, return an array ans of length n + 1 such that for each i (0 <= i <= n), ans[i] is the number of 1's in the binary representation of i.\n",
    "\n",
    "\n",
    "### Using DP and Offset\n",
    "https://leetcode.com/problems/counting-bits/discuss/79557/How-we-handle-this-question-on-interview-Thinking-process-%2B-DP-solution\n",
    "\n",
    "### Using Recursive DP\n",
    "https://leetcode.com/problems/counting-bits/discuss/1808002/A-very-very-EASY-to-go-EXPLANATION"
   ]
  },
  {
   "cell_type": "code",
   "execution_count": 1,
   "id": "0328970f",
   "metadata": {},
   "outputs": [],
   "source": [
    "#Observe pattern in the bits!\n",
    "\n",
    "#Offset \n",
    "def countBits(self, n):\n",
    "    dp = [0] * (n+1)\n",
    "    offset  = 1\n",
    "    for i in range(1,n+1):\n",
    "\n",
    "        if offset*2 == i:\n",
    "            offset = offset * 2\n",
    "\n",
    "        dp[i] = dp[i-offset] + 1\n",
    "\n",
    "    return dp"
   ]
  },
  {
   "cell_type": "markdown",
   "id": "06f39187",
   "metadata": {},
   "source": [
    "# 1203. Sort Items by Groups Respecting Dependencies\n",
    "\n",
    "Input: n = 8, m = 2, group = [-1,-1,1,0,0,1,0,-1], beforeItems = [[],[6],[5],[6],[3,6],[],[],[]]\n",
    "Output: [6,3,4,1,5,2,0,7]\n",
    "\n",
    "Use Topsort. Before items are treated as prereqs for items."
   ]
  },
  {
   "cell_type": "code",
   "execution_count": 4,
   "id": "cc7690ae",
   "metadata": {},
   "outputs": [],
   "source": [
    "def sortItems(n, m, group, beforeItems):\n",
    "    \n",
    "    #Topological sort using BFS\n",
    "    def topSortBFS(graph, inDegree):\n",
    "\n",
    "        queue = [node for node in graph.keys() if inDegree[node] == 0]\n",
    "        topOrder = []\n",
    "        while queue:\n",
    "            u = queue.pop(0)\n",
    "            topOrder.append(u)\n",
    "            for v in graph[u]:\n",
    "                inDegree[v] -= 1\n",
    "                if inDegree[v] == 0:\n",
    "                    queue.append(v)\n",
    "        return topOrder if len(topOrder) == len(graph) else []\n",
    "\n",
    "    #Seperate group for items without any group\n",
    "    for i in range(len(group)):\n",
    "        if group[i] == -1:\n",
    "            group[i] = m\n",
    "            m = m +1\n",
    "    #Initialization of item graph and group graph (DAGs)        \n",
    "    groupGraph = {}\n",
    "    for i in range(m):\n",
    "        groupGraph[i] = []\n",
    "    itemGraph = {}\n",
    "    for i in range(n):\n",
    "        itemGraph[i] = []\n",
    "    groupGraphInDegree = [0] * m\n",
    "    itemGraphInDegree = [0] * n\n",
    "\n",
    "    for u in range(n):\n",
    "        for v in beforeItems[u]:\n",
    "            itemGraph[v].append(u)\n",
    "            itemGraphInDegree[u] += 1\n",
    "            if group[v] != group[u]:\n",
    "                groupGraph[group[v]].append(group[u])\n",
    "                groupGraphInDegree[group[u]] += 1\n",
    "\n",
    "    #TopSort\n",
    "    groupOrder = topSortBFS(groupGraph, groupGraphInDegree)\n",
    "    itemOrder = topSortBFS(itemGraph, itemGraphInDegree)\n",
    "\n",
    "    #Empty if no solution (Cycle exists)\n",
    "    if itemOrder == [] or groupOrder == []:\n",
    "        return []\n",
    "\n",
    "    #Ordering items by group as per TopSort for items\n",
    "    orderByGroup = collections.defaultdict(list)\n",
    "    for i in itemOrder:\n",
    "        orderByGroup[group[i]].append(i)\n",
    "\n",
    "    #Ordering the groups as per TopSort for groups\n",
    "    res = [] \n",
    "    for group in groupOrder:\n",
    "        res += orderByGroup[group]\n",
    "    return res\n"
   ]
  },
  {
   "cell_type": "markdown",
   "id": "5df20da6",
   "metadata": {},
   "source": [
    "# 472. Concatenated Words\n",
    "Without using Tries: \n",
    "\n",
    "Use code for word break\n",
    "\n",
    "https://leetcode.com/problems/concatenated-words/discuss/348972/Java-Common-template-Word-Break-I-Word-Break-II-Concatenated-Words"
   ]
  },
  {
   "cell_type": "code",
   "execution_count": 46,
   "id": "c7564176",
   "metadata": {},
   "outputs": [
    {
     "data": {
      "text/plain": [
       "['catsdogcats', 'dogcatsdog', 'ratcatdogcat']"
      ]
     },
     "execution_count": 46,
     "metadata": {},
     "output_type": "execute_result"
    }
   ],
   "source": [
    "class TrieNode:\n",
    "\n",
    "    def __init__(self):\n",
    "        self.children = {}\n",
    "        self.end = False\n",
    "        \n",
    "class Trie:\n",
    "    \n",
    "    def __init__(self):\n",
    "        self.root = TrieNode()\n",
    "        \n",
    "        \n",
    "    def insert(self, word):\n",
    "        temp = self.root\n",
    "        for char in word:\n",
    "            if char not in temp.children:\n",
    "                temp.children[char] = TrieNode()\n",
    "            temp = temp.children[char]\n",
    "        temp.end = True\n",
    "        \n",
    "    \n",
    "    def search(self, word, start, count):\n",
    "        temp = self.root\n",
    "        \n",
    "        for i in range(start, len(word)):\n",
    "            #If not present, then false straighaway!\n",
    "            if word[i] not in temp.children:\n",
    "                return False\n",
    "            #If present\n",
    "            #Check if it end = True\n",
    "            if temp.children[word[i]].end:\n",
    "                #TRUE = Match FOUND!\n",
    "                #If word is exhausted, then all match\n",
    "                if i == len(word) - 1:\n",
    "                    #Return only in more than 0 match\n",
    "                    return count >=1\n",
    "                #If word is still there, call for next, increase count to one!\n",
    "                elif(self.search(word,i + 1, count + 1)):\n",
    "                    #If that matches as well, return True\n",
    "                    return True\n",
    "            #Go to next letter\n",
    "            temp = temp.children[word[i]]\n",
    "        return False\n",
    "       \n",
    "def findAllConcatenatedWordsInADict(words):\n",
    "\n",
    "    trie = Trie()\n",
    "    #First insert all words\n",
    "    for word in words:\n",
    "        trie.insert(word)\n",
    "        \n",
    "    #Then see if it is concatenated\n",
    "    res = []   \n",
    "    for word in words:\n",
    "        if trie.search(word, 0, 0):\n",
    "            res.append(word)\n",
    "    return res\n",
    "            \n",
    "words = [\"cat\",\"cats\",\"catsdogcats\",\"dog\",\"dogcatsdog\",\"hippopotamuses\",\"rat\",\"ratcatdogcat\"]\n",
    "findAllConcatenatedWordsInADict(words)"
   ]
  },
  {
   "cell_type": "code",
   "execution_count": null,
   "id": "3b980edf",
   "metadata": {},
   "outputs": [],
   "source": []
  }
 ],
 "metadata": {
  "kernelspec": {
   "display_name": "Python 3",
   "language": "python",
   "name": "python3"
  },
  "language_info": {
   "codemirror_mode": {
    "name": "ipython",
    "version": 3
   },
   "file_extension": ".py",
   "mimetype": "text/x-python",
   "name": "python",
   "nbconvert_exporter": "python",
   "pygments_lexer": "ipython3",
   "version": "3.8.8"
  }
 },
 "nbformat": 4,
 "nbformat_minor": 5
}
