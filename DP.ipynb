{
 "cells": [
  {
   "cell_type": "markdown",
   "id": "32ced9a9",
   "metadata": {},
   "source": [
    "# DP"
   ]
  },
  {
   "cell_type": "code",
   "execution_count": null,
   "id": "c2f5da31",
   "metadata": {},
   "outputs": [],
   "source": [
    "#0/1 KnapSack\n",
    "wt = [10,20,30]\n",
    "val = [60,100,120]\n",
    "W = 50\n",
    "n=3"
   ]
  },
  {
   "cell_type": "code",
   "execution_count": null,
   "id": "e7081320",
   "metadata": {},
   "outputs": [],
   "source": [
    "#Recursive\n",
    "def RecKnapsack(n,W,wt,val):\n",
    "    #Base Condtion - (Smallest Valid Input)\n",
    "    if (n==0 or W==0):\n",
    "        return 0\n",
    "    #Choice Diagram\n",
    "    #If weight is less than or equal to, than we either take the item or not.\n",
    "    #If we take it, we subtract the weight and then recurse for next n-1 items.\n",
    "    #If not, we simply recurse for next n-1 item\n",
    "    if(wt[n-1]<=W):\n",
    "        return max(val[n-1] + RecKnapsack(n-1,W-wt[n-1],wt,val), RecKnapsack(n-1,W,wt,val))\n",
    "    #If weight is greater, we obviously cannot take the object.\n",
    "    #Here aswell, since we are not taking it, we simply recurse on next n-1 items.\n",
    "    else:\n",
    "        return RecKnapsack(n-1,W,wt,val)\n",
    "RecKnapsack(n,W,wt,val)"
   ]
  },
  {
   "cell_type": "code",
   "execution_count": null,
   "id": "7e40502a",
   "metadata": {},
   "outputs": [],
   "source": [
    "#Memoized\n",
    "\n",
    "#Intitialization\n",
    "T = [[-1 for x in range(W+1) for x in range(n+1)]\n",
    "#Recursion\n",
    "def MemRecKnapsack(n,W,wt,val):\n",
    "    if (n==0 or W==0):\n",
    "        return 0\n",
    "    #If its not -1 then the value has been already computed.\n",
    "    if(T[n][W]!= -1):\n",
    "        return T[n][W]\n",
    "    if(wt[n-1]<=W):\n",
    "        T[n][W]= max(val[n-1] + MemRecKnapsack(n-1,W-wt[n-1],wt,val), MemRecKnapsack(n-1,W,wt,val))\n",
    "        return T[n][W]\n",
    "    else:\n",
    "        T[n][W]=MemRecKnapsack(n-1,W,wt,val)\n",
    "        return T[n][W]\n",
    "MemRecKnapsack(n,W,wt,val)"
   ]
  },
  {
   "cell_type": "code",
   "execution_count": null,
   "id": "700059b2",
   "metadata": {},
   "outputs": [],
   "source": [
    "#Bottom Up\n",
    "def Knapsack(n,W,wt,val):\n",
    "    #Intitialization\n",
    "    T = [[0 for x in range(W + 1)] for x in range(n + 1)]\n",
    "    #Iterative \n",
    "    # n >> i AND W >> j\n",
    "    for i in range(1,n+1):\n",
    "        for j in range(1,W+1):\n",
    "            if(wt[i-1]<=j):\n",
    "                T[i][j]= max(val[i-1] + T[i-1][j-wt[i-1]], T[i-1][j])\n",
    "            else:\n",
    "                T[i][j]=T[i-1][j]\n",
    "    return T[n][W]\n",
    "Knapsack(n,W,wt,val)"
   ]
  },
  {
   "cell_type": "code",
   "execution_count": 25,
   "id": "ba2617ba",
   "metadata": {},
   "outputs": [],
   "source": [
    "#Subset Sum\n",
    "arr = [2,3,7,8,10]\n",
    "t=12\n",
    "n=5"
   ]
  },
  {
   "cell_type": "code",
   "execution_count": 26,
   "id": "b3851a05",
   "metadata": {},
   "outputs": [
    {
     "data": {
      "text/plain": [
       "True"
      ]
     },
     "execution_count": 26,
     "metadata": {},
     "output_type": "execute_result"
    }
   ],
   "source": [
    "def RecSubsetSum(arr,t,n):\n",
    "    #Base Condition\n",
    "    if t==0:\n",
    "        return True\n",
    "    if n==0:\n",
    "        return False\n",
    "    if(arr[n-1]<=t):\n",
    "        return RecSubsetSum(arr,t-arr[n-1],n-1) or RecSubsetSum(arr,t,n-1)\n",
    "    else:\n",
    "        return RecSubsetSum(arr,t,n-1)\n",
    "RecSubsetSum(arr,t,n)"
   ]
  },
  {
   "cell_type": "code",
   "execution_count": 102,
   "id": "e0e73438",
   "metadata": {},
   "outputs": [
    {
     "data": {
      "text/plain": [
       "[True, False, True, True, True, True, True, True, True, True, True, True, True]"
      ]
     },
     "execution_count": 102,
     "metadata": {},
     "output_type": "execute_result"
    }
   ],
   "source": [
    "def SubsetSum(arr,t,n):\n",
    "    #Intitialization\n",
    "    S = [[False for x in range(t + 1)] for x in range(n + 1)]\n",
    "    \n",
    "    #Base Condition\n",
    "    for j in range(t+1):\n",
    "        S[0][j]=False\n",
    "    for i in range(n+1):\n",
    "        S[i][0]=True\n",
    "    #Choice Diagram\n",
    "    for i in range(n+1):\n",
    "        for j in range(t+1):\n",
    "            if(arr[i-1]<=j):\n",
    "                S[i][j] = S[i-1][j-arr[i-1]] or S[i-1][j]\n",
    "            else:\n",
    "                S[i][j] = S[i-1][j]\n",
    "    #return S[n][t]\n",
    "    return S[n][t]\n",
    "    \n",
    "SubsetSum(arr,t,n)"
   ]
  },
  {
   "cell_type": "code",
   "execution_count": 32,
   "id": "609eb370",
   "metadata": {},
   "outputs": [],
   "source": [
    "#Equal Sum Partition\n",
    "nums = [1,5,11,5]\n",
    "n=len(nums)"
   ]
  },
  {
   "cell_type": "code",
   "execution_count": 38,
   "id": "80f05621",
   "metadata": {},
   "outputs": [
    {
     "data": {
      "text/plain": [
       "True"
      ]
     },
     "execution_count": 38,
     "metadata": {},
     "output_type": "execute_result"
    }
   ],
   "source": [
    "def EqualSumPartition(nums,n):\n",
    "    if(sum(nums)%2!=0):\n",
    "        return False\n",
    "    else:\n",
    "        return SubsetSum(nums,sum(nums)//2,n)\n",
    "EqualSumPartition(nums,n)"
   ]
  },
  {
   "cell_type": "code",
   "execution_count": 99,
   "id": "bbb4d610",
   "metadata": {},
   "outputs": [],
   "source": [
    "#Count number of subsets equal to given target\n",
    "arr = [2,3,7,8,10,4]\n",
    "t=12"
   ]
  },
  {
   "cell_type": "code",
   "execution_count": 149,
   "id": "fb533a5b",
   "metadata": {},
   "outputs": [
    {
     "data": {
      "text/plain": [
       "3"
      ]
     },
     "execution_count": 149,
     "metadata": {},
     "output_type": "execute_result"
    }
   ],
   "source": [
    "def CountSubset(nums,target):\n",
    "    n=len(nums)\n",
    "    T = [[0 for x in range(target+1)] for x in range(n+1)]\n",
    "\n",
    "    for j in range(target+1):\n",
    "        T[0][j]=0\n",
    "    for i in range(n+1):\n",
    "        T[i][0]=1\n",
    "\n",
    "    for i in range(1,n+1):\n",
    "        for j in range(1,target+1):\n",
    "            if(nums[i-1]<=j):\n",
    "                T[i][j]=T[i-1][j-nums[i-1]] + T[i-1][j]\n",
    "            else:\n",
    "                T[i][j]=T[i-1][j]\n",
    "    return T[n][target]\n",
    "\n",
    "CountSubset(arr,t)"
   ]
  },
  {
   "cell_type": "code",
   "execution_count": 129,
   "id": "d0e4630c",
   "metadata": {},
   "outputs": [],
   "source": [
    "#Minimun Subset Sum Difference (|S2-S1|)\n",
    "#Use Subset Sum to find the possible sums of subsets(Range). \n",
    "#Take only until range/2 (Makes sure we get absoulte value)\n",
    "#Range = Max Possible Sum - Min Possible Sum\n",
    "#S2-S1\n",
    "\n",
    "#S1+S2=Range\n",
    "#S2 = Range - S1\n",
    "\n",
    "#Range - 2S1\n",
    "nums=[1,2,7]"
   ]
  },
  {
   "cell_type": "code",
   "execution_count": 133,
   "id": "eff8af84",
   "metadata": {},
   "outputs": [
    {
     "data": {
      "text/plain": [
       "4"
      ]
     },
     "execution_count": 133,
     "metadata": {},
     "output_type": "execute_result"
    }
   ],
   "source": [
    "def MinSubsetSumDiff(nums):\n",
    "    diffRange=sum(nums)\n",
    "    temp=SubsetSum(nums,diffRange//2,len(nums))\n",
    "    for i in range(len(temp)-1,0,-1):\n",
    "        if(temp[i]==True):\n",
    "            return diffRange-2*i\n",
    "    \n",
    "\n",
    "MinSubsetSumDiff(nums)\n",
    "    "
   ]
  },
  {
   "cell_type": "code",
   "execution_count": 142,
   "id": "73cd9cbc",
   "metadata": {},
   "outputs": [],
   "source": [
    "#Target Sum\n",
    "#Count number of subsets with given difference(D)\n",
    "#S1 - S2 = D\n",
    "#S1 + S2 = Sum(Array)\n",
    "#Adding the above two equations.\\\n",
    "#S1 = (D + Sum)/2\n",
    "#Using this we get the sum for a subset. It must be the same for all the subsets(S1) in order the get the required difference.\n",
    "#Call Count Subset with this sum\n",
    "\n",
    "nums = [1,2,3,1]\n",
    "diff = 1"
   ]
  },
  {
   "cell_type": "code",
   "execution_count": 156,
   "id": "d4ba582a",
   "metadata": {},
   "outputs": [
    {
     "data": {
      "text/plain": [
       "3"
      ]
     },
     "execution_count": 156,
     "metadata": {},
     "output_type": "execute_result"
    }
   ],
   "source": [
    "def CountNoOfSubsetsWithDiff(nums,diff):\n",
    "    \n",
    "    #S1 = (D + Sum)/2\n",
    "    target = (sum(nums)+diff)//2\n",
    "    return CountSubset(nums,target)\n",
    "\n",
    "CountNoOfSubsetsWithDiff(nums,diff)"
   ]
  },
  {
   "cell_type": "code",
   "execution_count": 8,
   "id": "0d5e46fd",
   "metadata": {},
   "outputs": [],
   "source": [
    "#Target Sum (Same as CountNoOfSubsetsWithDiff)\n",
    "def findTargetSumWays(nums, target):\n",
    "\n",
    "    def CountSubsets(nums,val):\n",
    "        n=len(nums)\n",
    "        S=[[0 for x in range(val+1)] for x in range(n+1)]\n",
    "        #Modification\n",
    "        S[0][0] = 1\n",
    "        for i in range(1,n+1):\n",
    "            #Modification to consider multiple occurences of 0s in the nums array. Can increase the nunmber of possible subsets.\n",
    "            for j in range(val+1):\n",
    "                if(nums[i-1]<=j):\n",
    "                    S[i][j] = S[i-1][j-nums[i-1]] + S[i-1][j]\n",
    "                else:\n",
    "                    S[i][j] = S[i-1][j]\n",
    "\n",
    "        return S[n][val]\n",
    "    #Edge Cases\n",
    "    #Target should be less than sum of the array\n",
    "    if(abs(target)>sum(nums)):\n",
    "        return 0\n",
    "    #Sum + Target should be divisble by 2.\n",
    "    if (sum(nums)+target)%2!=0:\n",
    "        return 0\n",
    "    \n",
    "    #S1 = (D + Sum)/2\n",
    "    val = (sum(nums)+target)//2\n",
    "    return CountSubsets(nums,val)"
   ]
  },
  {
   "cell_type": "code",
   "execution_count": 20,
   "id": "67447a71",
   "metadata": {},
   "outputs": [],
   "source": [
    "#Unbounded Knapsack (Repetition of items allowed)\n",
    "#Rod Cutting\n",
    "val = [10, 40, 50, 70]\n",
    "wt = [1, 3, 4, 5]\n",
    "n = len(val)\n",
    "W = 8"
   ]
  },
  {
   "cell_type": "code",
   "execution_count": 33,
   "id": "36df621d",
   "metadata": {},
   "outputs": [
    {
     "data": {
      "text/plain": [
       "110"
      ]
     },
     "execution_count": 33,
     "metadata": {},
     "output_type": "execute_result"
    }
   ],
   "source": [
    "def UnboundedKnapsack(val,wt,n,W):\n",
    "    T = [[0 for x in range(W+1)] for x in range(n+1)]\n",
    "    for i in range(1,n+1):\n",
    "        for j in range(1,W+1):\n",
    "            if(wt[i-1] <= j):\n",
    "                # i instead of i-1, if we consider the item (That is, the item can be repeated)\n",
    "                T[i][j] = max(val[i-1]+T[i][j-wt[i-1]], T[i-1][j])\n",
    "            else:\n",
    "                T[i][j] = T[i-1][j]\n",
    "    return T[n][W]\n",
    "UnboundedKnapsack(val,wt,n,W)"
   ]
  },
  {
   "cell_type": "code",
   "execution_count": 37,
   "id": "3d9b9c62",
   "metadata": {},
   "outputs": [],
   "source": [
    "#Coin Change 1 ( Max Number of ways)\n",
    "#Similar to unbonded knapsack\n",
    "#Use the method use to count the number of subsets with a given sum\n",
    "#Only catch is that the numbers(coins) can be repeated (UNBOUNDED!)\n",
    "coins = [1,2,3]\n",
    "val = 5"
   ]
  },
  {
   "cell_type": "code",
   "execution_count": 40,
   "id": "5526b299",
   "metadata": {},
   "outputs": [
    {
     "data": {
      "text/plain": [
       "5"
      ]
     },
     "execution_count": 40,
     "metadata": {},
     "output_type": "execute_result"
    }
   ],
   "source": [
    "def CoinChange1(coins, val):\n",
    "    n = len(coins)\n",
    "    S = [[0 for x in range(val+1)] for x in range(n+1)]\n",
    "    for i in range(n+1):\n",
    "        S[i][0] = 1\n",
    "    for i in range(1,n+1):\n",
    "        for j in range(1,val+1):\n",
    "            if(coins[i-1]<=j):\n",
    "                S[i][j] = S[i][j-coins[i-1]] + S[i-1][j]\n",
    "            else:\n",
    "                S[i][j] = S[i-1][j]\n",
    "    return S[n][val]\n",
    "\n",
    "CoinChange1(coins,val)"
   ]
  },
  {
   "cell_type": "code",
   "execution_count": 2,
   "id": "842049e8",
   "metadata": {},
   "outputs": [],
   "source": [
    "#Coin Change 2 ( Min number of coins)\n",
    "coins = [1,2,3]\n",
    "val = 5"
   ]
  },
  {
   "cell_type": "code",
   "execution_count": 4,
   "id": "f81a2ebe",
   "metadata": {},
   "outputs": [
    {
     "data": {
      "text/plain": [
       "2"
      ]
     },
     "execution_count": 4,
     "metadata": {},
     "output_type": "execute_result"
    }
   ],
   "source": [
    "import sys\n",
    "def CoinChange2(coins, val):\n",
    "    n = len(coins)\n",
    "    S = [[0 for x in range(val+1)] for x in range(n+1)]\n",
    "    for j in range(val+1):\n",
    "        S[0][j] = sys.maxsize - 1\n",
    "    for i in range(n+1):\n",
    "        S[i][0] = 0\n",
    "#     for j in range(1,val+1):\n",
    "#         if(j%coins[0]):\n",
    "#             S[1][j] = j/coins[0]\n",
    "#         else:\n",
    "#             S[1][j] = sys.maxsize - 1  \n",
    "    for i in range(1,n+1):\n",
    "        for j in range(1,val+1):\n",
    "            if(coins[i-1]<=j):\n",
    "                S[i][j] = min(1 + S[i][j-coins[i-1]], S[i-1][j])\n",
    "            else:\n",
    "                S[i][j] = S[i-1][j]\n",
    "    return S[n][val]\n",
    "CoinChange2(coins, val)"
   ]
  },
  {
   "cell_type": "code",
   "execution_count": 44,
   "id": "8f01eea5",
   "metadata": {},
   "outputs": [],
   "source": [
    "#Longest Common Subsequence (LCS)\n",
    "\n",
    "X ='abcdgh'\n",
    "Y ='abedfhr'\n",
    "n=len(X)\n",
    "m=len(Y)"
   ]
  },
  {
   "cell_type": "code",
   "execution_count": 19,
   "id": "7ac4b772",
   "metadata": {},
   "outputs": [
    {
     "data": {
      "text/plain": [
       "4"
      ]
     },
     "execution_count": 19,
     "metadata": {},
     "output_type": "execute_result"
    }
   ],
   "source": [
    "#Recursive LCS\n",
    "\n",
    "def RecLCS(X,Y,n,m):\n",
    "    #Base Conidtion - If the length of either of the strings is 0, then there is no LCS, hence we return 0\n",
    "    if(n == 0 or m == 0):\n",
    "        return 0\n",
    "    #Choice Diagram\n",
    "    #If the last letters are equal, add 1 to LCS and pass the strings by decreasing the size by 1\n",
    "    #If they are not equal, then take maximum, by decreasing 1 from either strings.\n",
    "    if(X[n-1]==Y[m-1]):\n",
    "        return 1 + RecLCS(X,Y,n-1,m-1)\n",
    "    else:\n",
    "        return max(RecLCS(X,Y,n-1,m),RecLCS(X,Y,n,m-1))\n",
    "RecLCS(X,Y,n,m)"
   ]
  },
  {
   "cell_type": "code",
   "execution_count": 25,
   "id": "f19c69a1",
   "metadata": {},
   "outputs": [
    {
     "data": {
      "text/plain": [
       "4"
      ]
     },
     "execution_count": 25,
     "metadata": {},
     "output_type": "execute_result"
    }
   ],
   "source": [
    "#Memoized LCS\n",
    "\n",
    "#Intitialization\n",
    "T = [[-1 for x in range(m+1)] for x in range(n+1)]\n",
    "def MemRecLCS(X,Y,n,m):\n",
    "    if(n == 0 or m == 0):\n",
    "        return 0\n",
    "    if(T[n][m]!=-1):\n",
    "        return T[n][m]\n",
    "    if(X[n-1]==Y[m-1]):\n",
    "        T[n][m] = 1 + RecLCS(X,Y,n-1,m-1)\n",
    "        return T[n][m]\n",
    "    else:\n",
    "        T[n][m] = max(RecLCS(X,Y,n-1,m),RecLCS(X,Y,n,m-1))\n",
    "        return T[n][m]\n",
    "MemRecLCS(X,Y,n,m)"
   ]
  },
  {
   "cell_type": "code",
   "execution_count": 5,
   "id": "36d7b2e7",
   "metadata": {},
   "outputs": [
    {
     "ename": "NameError",
     "evalue": "name 'X' is not defined",
     "output_type": "error",
     "traceback": [
      "\u001b[1;31m---------------------------------------------------------------------------\u001b[0m",
      "\u001b[1;31mNameError\u001b[0m                                 Traceback (most recent call last)",
      "\u001b[1;32m<ipython-input-5-950af786ec92>\u001b[0m in \u001b[0;36m<module>\u001b[1;34m\u001b[0m\n\u001b[0;32m     12\u001b[0m     \u001b[1;32mreturn\u001b[0m \u001b[0mT\u001b[0m\u001b[1;33m[\u001b[0m\u001b[0mn\u001b[0m\u001b[1;33m]\u001b[0m\u001b[1;33m[\u001b[0m\u001b[0mm\u001b[0m\u001b[1;33m]\u001b[0m\u001b[1;33m\u001b[0m\u001b[1;33m\u001b[0m\u001b[0m\n\u001b[0;32m     13\u001b[0m \u001b[1;33m\u001b[0m\u001b[0m\n\u001b[1;32m---> 14\u001b[1;33m \u001b[0mLCS\u001b[0m\u001b[1;33m(\u001b[0m\u001b[0mX\u001b[0m\u001b[1;33m,\u001b[0m\u001b[0mY\u001b[0m\u001b[1;33m,\u001b[0m\u001b[0mm\u001b[0m\u001b[1;33m,\u001b[0m\u001b[0mn\u001b[0m\u001b[1;33m)\u001b[0m\u001b[1;33m\u001b[0m\u001b[1;33m\u001b[0m\u001b[0m\n\u001b[0m",
      "\u001b[1;31mNameError\u001b[0m: name 'X' is not defined"
     ]
    }
   ],
   "source": [
    "#Bottom Up\n",
    "\n",
    "def LCS(X,Y,m,n):\n",
    "    T = [[0 for x in range(m+1)] for x in range(n+1)]\n",
    "    for i in range(1,n+1):\n",
    "        for j in range(1,m+1):\n",
    "            if(X[i-1]==Y[j-1]):\n",
    "                T[i][j]=1+T[i-1][j-1]\n",
    "            else:\n",
    "                T[i][j]=max(T[i-1][j],T[i][j-1]) \n",
    "    printLCS(T,X,Y)\n",
    "    return T[n][m]\n",
    "\n",
    "LCS(X,Y,m,n)"
   ]
  },
  {
   "cell_type": "code",
   "execution_count": 38,
   "id": "b7e2b675",
   "metadata": {},
   "outputs": [],
   "source": [
    "#Longest Common Substring (LCS)\n",
    "\n",
    "X ='abcdgh'\n",
    "Y ='abcdfhr'\n",
    "n=len(X)\n",
    "m=len(Y)"
   ]
  },
  {
   "cell_type": "code",
   "execution_count": 40,
   "id": "0fabf24e",
   "metadata": {},
   "outputs": [
    {
     "data": {
      "text/plain": [
       "4"
      ]
     },
     "execution_count": 40,
     "metadata": {},
     "output_type": "execute_result"
    }
   ],
   "source": [
    "#Should be continious\n",
    "\n",
    "def LCSubstring(X,Y,m,n):\n",
    "    T = [[0 for x in range(m+1)] for x in range(n+1)]\n",
    "    lcs=0\n",
    "    for i in range(1,n+1):\n",
    "        for j in range(1,m+1):\n",
    "            if(X[i-1]==Y[j-1]):\n",
    "                T[i][j]=1+T[i-1][j-1]\n",
    "            else:\n",
    "                #Set to 0, as we need continious sequence(SUBSTRING)\n",
    "                T[i][j]=0\n",
    "            if(T[i][j]>lcs):\n",
    "                lcs=T[i][j]\n",
    "    return lcs\n",
    "\n",
    "LCSubstring(X,Y,m,n)"
   ]
  },
  {
   "cell_type": "code",
   "execution_count": 4,
   "id": "d6ac14b9",
   "metadata": {},
   "outputs": [],
   "source": [
    "#Print LCS\n",
    "def printLCS(T,X,Y):\n",
    "    i=len(X)\n",
    "    j=len(Y)\n",
    "    temp=[]\n",
    "    while(i>0 and j>0):\n",
    "        #Append when equal\n",
    "        if(X[i-1]==Y[j-1]):\n",
    "            temp.append(X[i-1])\n",
    "            #Move diagonal\n",
    "            i=i-1\n",
    "            j=j-1\n",
    "        else:\n",
    "            #Move to the maximum one\n",
    "            if(T[i-1][j]>T[i][j-1]):\n",
    "                i=i-1\n",
    "            else:\n",
    "                j=j-1\n",
    "    print(temp[::-1])\n",
    "    "
   ]
  },
  {
   "cell_type": "code",
   "execution_count": 53,
   "id": "17738cc7",
   "metadata": {},
   "outputs": [],
   "source": [
    "#SCS (Shortest!)\n",
    "#Merge two strings such that you can get both the strings out of the new string and the order should be preserved\n",
    "A = \"abac\"\n",
    "B = \"cab\"\n",
    "#O/P \"cabac\"\n",
    "\n",
    "#For length of SCS\n",
    "#len(A)+len(B)-len(lcs)"
   ]
  },
  {
   "cell_type": "code",
   "execution_count": 54,
   "id": "f24871e2",
   "metadata": {},
   "outputs": [],
   "source": [
    "#Print SCS\n",
    "def shortestCommonSupersequence(str1,str2):\n",
    "    #Code for LCS\n",
    "    n=len(str1)\n",
    "    m=len(str2)\n",
    "    T=[[0 for x in range(m+1)] for x in range(n+1)]\n",
    "    for i in range(1,n+1):\n",
    "        for j in range(1,m+1):\n",
    "            if(str1[i-1]==str2[j-1]):\n",
    "                T[i][j]=1+T[i-1][j-1]\n",
    "            else:\n",
    "                T[i][j]=max(T[i-1][j],T[i][j-1])\n",
    "                \n",
    "    #Modified Print LCS\n",
    "    i=n\n",
    "    j=m\n",
    "    temp=\"\"\n",
    "    while(i>0 and j>0):\n",
    "        if(str1[i-1]==str2[j-1]):\n",
    "            temp+=str1[i-1]\n",
    "            i=i-1\n",
    "            j=j-1\n",
    "        else:\n",
    "            if(T[i-1][j]>T[i][j-1]):\n",
    "                temp+=str1[i-1]\n",
    "                i=i-1\n",
    "            else:\n",
    "                temp+=str2[j-1]\n",
    "                j=j-1    \n",
    "                \n",
    "    #Appending the leftovers\n",
    "    while(i>0):\n",
    "        i=i-1\n",
    "        temp+=str1[i]\n",
    "    while(j>0):\n",
    "        j=j-1\n",
    "        temp+=str2[j]\n",
    "    return temp[::-1]"
   ]
  },
  {
   "cell_type": "code",
   "execution_count": 56,
   "id": "3f683369",
   "metadata": {},
   "outputs": [],
   "source": [
    "#Minimum Number of Insertion and Deletion to convert String a to String b\n",
    "a = 'heap'\n",
    "b = 'pea'\n",
    "\n",
    "#Get LCS(a,b)\n",
    "#lcs = 'ea'\n",
    "#Deletions = len(A)-len(lcs)\n",
    "#heap >> ea Remove h and p. 2 Deletions\n",
    "#Insertions = len(B)-len(lcs)\n",
    "#ea >> pea Insert p. 1 Insertion\n"
   ]
  },
  {
   "cell_type": "code",
   "execution_count": 63,
   "id": "d8ff2473",
   "metadata": {},
   "outputs": [
    {
     "name": "stdout",
     "output_type": "stream",
     "text": [
      "['A', 'B', 'C', 'E', 'C', 'B', 'A']\n"
     ]
    },
    {
     "data": {
      "text/plain": [
       "7"
      ]
     },
     "execution_count": 63,
     "metadata": {},
     "output_type": "execute_result"
    }
   ],
   "source": [
    "#Longest Palindromic Subsequence (LPS)\n",
    "#Return LCS(A,A[::-1])\n",
    "#LCS on String A and Reverse of A\n",
    "#We get matching subsequence, and that is the LPS\n",
    "A=\"ABCDECBAA\"\n",
    "\n",
    "def LPS(A):\n",
    "    return LCS(A,A[::-1],len(A),len(A))\n",
    "\n",
    "LPS(A)"
   ]
  },
  {
   "cell_type": "code",
   "execution_count": 64,
   "id": "c8376c92",
   "metadata": {},
   "outputs": [],
   "source": [
    "#Minimum number of deletion in a string to make it a palindrome\n",
    "#Find the LCS of String A and Reverse of String A (This basically gives the lenght of A's LPS)\n",
    "#Substract len(A) - LCS(A,A[::-1])\n",
    "#A=\"ABCDECBAA\"\n",
    "#Reverse(A)=\"AABCEDCBA\"\n",
    "#LCS = \"ABCEBA\"\n",
    "#Len(A) = 9\n",
    "#Len(LCS) = 7\n",
    "#9-7=2 Deletions Required"
   ]
  },
  {
   "cell_type": "code",
   "execution_count": null,
   "id": "1f97b6d8",
   "metadata": {},
   "outputs": [],
   "source": [
    "#Minimum number of insertions required to make a string palindrome\n",
    "#Thinking logically, its equal to the number of deletions required.\n",
    "#This is because the characters which violate the palindrome, since they are singular are needed to be inserted."
   ]
  },
  {
   "cell_type": "code",
   "execution_count": 2,
   "id": "3897f8c4",
   "metadata": {},
   "outputs": [],
   "source": [
    "#Longest Repeating Subsequence(LRS)\n",
    "#A=\"AABEBCDD\" << Here ABD subsequence is repeating twice(Longest!)\n",
    "#Take LCS(A,A)\n",
    "#LRS(A) = \"ABD\"\n",
    "#Idea here is to take LCS(A,A) with the condition that same index should not be compared that is i!=j\n",
    "#This is because in order to find repeating subsequence in the same string, we should not compare the same alphabet and an index\n",
    "#to another same alphabet at the same index.\n",
    "\n",
    "A=\"AABEBCDD\""
   ]
  },
  {
   "cell_type": "code",
   "execution_count": 6,
   "id": "67032312",
   "metadata": {},
   "outputs": [
    {
     "name": "stdout",
     "output_type": "stream",
     "text": [
      "['A', 'A', 'B', 'E', 'B', 'C', 'D', 'D']\n"
     ]
    },
    {
     "data": {
      "text/plain": [
       "3"
      ]
     },
     "execution_count": 6,
     "metadata": {},
     "output_type": "execute_result"
    }
   ],
   "source": [
    "#LRS\n",
    "def LRS(X,Y,m,n):\n",
    "    T = [[0 for x in range(m+1)] for x in range(n+1)]\n",
    "    for i in range(1,n+1):\n",
    "        for j in range(1,m+1):\n",
    "            if(X[i-1]==Y[j-1] and i!=j):\n",
    "                T[i][j]=1+T[i-1][j-1]\n",
    "            else:\n",
    "                T[i][j]=max(T[i-1][j],T[i][j-1]) \n",
    "    printLCS(T,X,Y)\n",
    "    return T[n][m]\n",
    "\n",
    "LRS(A,A,len(A),len(A))"
   ]
  },
  {
   "cell_type": "code",
   "execution_count": 16,
   "id": "08f13b75",
   "metadata": {},
   "outputs": [],
   "source": [
    "#Sequence Pattern Matching\n",
    "A=\"AXY\"\n",
    "B=\"ASJDNXAKJSHSBJB\"\n",
    "\n",
    "#Is String A a subsequence of String B\n",
    "#A should be in B. Order should be preserved. Subsequence i.e Not continious"
   ]
  },
  {
   "cell_type": "code",
   "execution_count": 17,
   "id": "aee153f5",
   "metadata": {},
   "outputs": [
    {
     "data": {
      "text/plain": [
       "False"
      ]
     },
     "execution_count": 17,
     "metadata": {},
     "output_type": "execute_result"
    }
   ],
   "source": [
    "def SPM(A,B):\n",
    "    i=len(A)-1\n",
    "    j=len(B)-1\n",
    "    \n",
    "    while(i>=0 and j>=0):\n",
    "        if(A[i]==B[j]):\n",
    "            i-=1\n",
    "            j-=1\n",
    "        else:\n",
    "            j-=1\n",
    "    if(i==-1):\n",
    "        return True\n",
    "    else:\n",
    "        return False\n",
    "    \n",
    "SPM(A,B)"
   ]
  },
  {
   "cell_type": "code",
   "execution_count": null,
   "id": "ee6aebe5",
   "metadata": {},
   "outputs": [],
   "source": []
  }
 ],
 "metadata": {
  "kernelspec": {
   "display_name": "Python 3",
   "language": "python",
   "name": "python3"
  },
  "language_info": {
   "codemirror_mode": {
    "name": "ipython",
    "version": 3
   },
   "file_extension": ".py",
   "mimetype": "text/x-python",
   "name": "python",
   "nbconvert_exporter": "python",
   "pygments_lexer": "ipython3",
   "version": "3.8.8"
  }
 },
 "nbformat": 4,
 "nbformat_minor": 5
}
